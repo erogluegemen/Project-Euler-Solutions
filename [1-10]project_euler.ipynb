{
 "cells": [
  {
   "cell_type": "code",
   "execution_count": 20,
   "id": "99a94295-4c02-4386-853a-cc4ee6789646",
   "metadata": {},
   "outputs": [
    {
     "data": {
      "text/plain": [
       "233168"
      ]
     },
     "execution_count": 20,
     "metadata": {},
     "output_type": "execute_result"
    }
   ],
   "source": [
    "# q1: find under 1000 divided to 3 or 5, sum them\n",
    "num = []\n",
    "for i in range(1000):\n",
    "    if i % 3 == 0 or i % 5 == 0:\n",
    "            num.append(i)\n",
    "            \n",
    "total = sum(num)\n",
    "total"
   ]
  },
  {
   "cell_type": "code",
   "execution_count": 84,
   "id": "aa94ce8a-a224-4eb5-9e93-02d7e14cc49f",
   "metadata": {},
   "outputs": [
    {
     "data": {
      "text/plain": [
       "4613732"
      ]
     },
     "execution_count": 84,
     "metadata": {},
     "output_type": "execute_result"
    }
   ],
   "source": [
    "# q2: fibonacci <=4.000.000, by starting 1 and 2, sum of even-numbers ().\n",
    "# (1, 2, 3, 5, 8, 13, 21, 34, 55, 89, ..)\n",
    "limit = 4000000\n",
    "total, num = 0, 0\n",
    "n1, n2 = 1, 1\n",
    "\n",
    "while num <= limit:\n",
    "    n1 = n2\n",
    "    n2 = num\n",
    "    num = n1 + n2\n",
    "    \n",
    "    if num % 2 == 0:\n",
    "        total+=num\n",
    "    \n",
    "total"
   ]
  },
  {
   "cell_type": "code",
   "execution_count": 50,
   "id": "181557d2-342d-42d4-b214-303f2459a59f",
   "metadata": {},
   "outputs": [
    {
     "data": {
      "text/plain": [
       "6857"
      ]
     },
     "execution_count": 50,
     "metadata": {},
     "output_type": "execute_result"
    }
   ],
   "source": [
    "# q3: largest prime factor of 600851475143\n",
    "n = 600851475143 \n",
    "i = 2\n",
    "\n",
    "while i < n:\n",
    "    while n % i == 0:\n",
    "        n = n / i\n",
    "    i+=1\n",
    "\n",
    "int(n)"
   ]
  },
  {
   "cell_type": "code",
   "execution_count": 46,
   "id": "baa91060-8804-4bd1-b998-54e31e16f6c0",
   "metadata": {},
   "outputs": [
    {
     "name": "stdout",
     "output_type": "stream",
     "text": [
      "906609\n"
     ]
    }
   ],
   "source": [
    "# q4: largest palindrome, product of two 3-digit numbers (abc x ijk)\n",
    "def is_palindrome(n:int)->int:\n",
    "    return str(n) == str(n)[::-1]\n",
    "       \n",
    "    \n",
    "largest = 0\n",
    "for num1 in range(100, 1000):          # first number of 3-digit \n",
    "    for num2 in range(num1, 1000):     # second number of 3-digit\n",
    "        if is_palindrome(num1*num2):   # checking palindrome\n",
    "            if (num1*num2) > largest:  # finding largest product\n",
    "                largest = num1*num2\n",
    "                \n",
    "print(largest) "
   ]
  },
  {
   "cell_type": "code",
   "execution_count": 42,
   "id": "7979ed75-ef88-4b46-999b-7d5505d8059c",
   "metadata": {},
   "outputs": [
    {
     "data": {
      "text/plain": [
       "232792560"
      ]
     },
     "execution_count": 42,
     "metadata": {},
     "output_type": "execute_result"
    }
   ],
   "source": [
    "# q5: dividible 1 to 20, smallest number (use least common multiple)\n",
    "from functools import reduce  # least common multiple\n",
    "from math import gcd  # greatest common divisor\n",
    "\n",
    "def lcm(a:int,b:int)->int:\n",
    "    return a*b//gcd(a,b)\n",
    "\n",
    "reduce(lcm, range(1,20+1))"
   ]
  },
  {
   "cell_type": "code",
   "execution_count": 25,
   "id": "82843574-32f6-4224-b318-bd943389393a",
   "metadata": {},
   "outputs": [
    {
     "name": "stdout",
     "output_type": "stream",
     "text": [
      "difference between the sum of the squares of the first ten natural numbers and the square of the sum is: \n",
      "25502500 - 338350 = 25164150\n"
     ]
    }
   ],
   "source": [
    "# q6: sum sqrt diff, first one hundred natural numbers\n",
    "nums =[]\n",
    "nums_sqr = []\n",
    "for i in range(101):\n",
    "    nums.append(i)\n",
    "    nums_sqr.append(i**2)\n",
    "total_sqr = sum(nums)**2 # 25502500\n",
    "num_sqr = sum(nums_sqr) #  338350\n",
    "\n",
    "print('difference between the sum of the squares of the first ten natural numbers and the square of the sum is: \\n{} - {} = {}'.format(total_sqr,num_sqr,(total_sqr - num_sqr)))"
   ]
  },
  {
   "cell_type": "code",
   "execution_count": 41,
   "id": "edf046c8-a131-45c7-a590-3c927c665675",
   "metadata": {},
   "outputs": [
    {
     "name": "stdout",
     "output_type": "stream",
     "text": [
      "10001'th prime is: 104743\n"
     ]
    }
   ],
   "source": [
    "# q7: what is the 10001st prime number? (104743)\n",
    "# use sieve primes method.\n",
    "import math \n",
    "\n",
    "def sieves_primes(n:int)->int:\n",
    "    array_count = 100\n",
    "    while array_count / math.log(array_count) <  n * 3:\n",
    "        array_count *= 2\n",
    "        \n",
    "    array_count = int(array_count)\n",
    "    is_prime_array = [True] * array_count\n",
    "    prime_count = 0\n",
    "    for i in range(2, array_count):\n",
    "        if is_prime_array[i]:\n",
    "            k = i + i \n",
    "            while k < array_count:\n",
    "                is_prime_array[k] = False\n",
    "                k+=i\n",
    "                \n",
    "            prime_count+=1\n",
    "            if prime_count == n:\n",
    "                return is_prime_array[:i+1]\n",
    "        \n",
    "\n",
    "n=10001\n",
    "print(f\"{n}'th prime is: {len(sieves_primes(n))-1}\") "
   ]
  },
  {
   "cell_type": "code",
   "execution_count": 31,
   "id": "9f66e85b-2f43-4822-8bc5-e612135d1a96",
   "metadata": {},
   "outputs": [
    {
     "name": "stdout",
     "output_type": "stream",
     "text": [
      "23514624000\n"
     ]
    }
   ],
   "source": [
    "# q8: Find the 13 adjacent digits in the 1000-digit number that have the greatest product\n",
    "from functools import reduce\n",
    "from operator import mul\n",
    "\n",
    "series = \"7316717653133062491922511967442657474235534919493496983520312774506326239578318016984801869478851843858615607891129494954595017379583319528532088055111254069874715852386305071569329096329522744304355766896648950445244523161731856403098711121722383113622298934233803081353362766142828064444866452387493035890729629049156044077239071381051585930796086670172427121883998797908792274921901699720888093776657273330010533678812202354218097512545405947522435258490771167055601360483958644670632441572215539753697817977846174064955149290862569321978468622482839722413756570560574902614079729686524145351004748216637048440319989000889524345065854122758866688116427171479924442928230863465674813919123162824586178664583591245665294765456828489128831426076900422421902267105562632111110937054421750694165896040807198403850962455444362981230987879927244284909188845801561660979191338754992005240636899125607176060588611646710940507754100225698315520005593572972571636269561882670428252483600823257530420752963450\"\n",
    "\n",
    "ints = []\n",
    "for i in series:\n",
    "    ints.append(int(i))\n",
    "\n",
    "length = len(ints) # 1000\n",
    "x = 13\n",
    "result = 0\n",
    "\n",
    "for i in range(length - x + 1):  # 1000 - 13 + 1(index 0)\n",
    "    subset = ints[i:i+x]\n",
    "    product = reduce(mul, subset)\n",
    "    result = max(result, product)\n",
    "print(result)"
   ]
  },
  {
   "cell_type": "code",
   "execution_count": 63,
   "id": "3f11ef8b-670b-44bb-871e-6dd161ad186e",
   "metadata": {},
   "outputs": [
    {
     "name": "stdout",
     "output_type": "stream",
     "text": [
      "\n",
      "a: 200 ,b: 375 ,c: 425\n",
      "product of a*b*c is:  31875000\n",
      "==============================\n",
      "\n",
      "a: 375 ,b: 200 ,c: 425\n",
      "product of a*b*c is:  31875000\n",
      "==============================\n"
     ]
    }
   ],
   "source": [
    "# q9: Pythagorean triplet\n",
    "'''\n",
    "a + b + c = 1000 -> range limit\n",
    "(a^2) + (b^2) = (c^2) hypotenuse -> if condition\n",
    "a < b < c -> inner for loops\n",
    "what is a * b * c -> result\n",
    "'''\n",
    "\n",
    "for a in range(1,1000):\n",
    "    for b in range(1,1000):\n",
    "        c = 1000-a-b  # a+b+c = 1000\n",
    "        if (a**2+b**2) == c**2:\n",
    "            print('\\na: {} ,b: {} ,c: {}'.format(a,b,c))\n",
    "            print('product of a*b*c is: ', (a*b*c))\n",
    "            print('='*30)"
   ]
  },
  {
   "cell_type": "code",
   "execution_count": 54,
   "id": "e2ab8ecd-869e-40b9-9dab-fc44bc579da1",
   "metadata": {},
   "outputs": [
    {
     "name": "stdout",
     "output_type": "stream",
     "text": [
      "142913828922\n"
     ]
    }
   ],
   "source": [
    "# q10: Find the sum of all the primes below two million.\n",
    "def prime_sum(upper_limit:int) -> int:\n",
    "    nums = [0 for i in range(upper_limit+1)]\n",
    "    nums[0], nums[1] = 1, 1\n",
    "\n",
    "    for i in range(2, int(upper_limit**0.5)):\n",
    "        if nums[i] == 0:\n",
    "            for j in range(i*i, upper_limit+1, i):\n",
    "                    nums[j] = 1\n",
    "    total_sum = 0\n",
    "    for i in range(upper_limit):\n",
    "        if nums[i] == 0:\n",
    "            total_sum += i\n",
    "    print(total_sum)\n",
    "\n",
    "    \n",
    "n = 2000000 \n",
    "prime_sum(n)  # 142913828922"
   ]
  }
 ],
 "metadata": {
  "kernelspec": {
   "display_name": "Python [conda env:datascience] *",
   "language": "python",
   "name": "conda-env-datascience-py"
  },
  "language_info": {
   "codemirror_mode": {
    "name": "ipython",
    "version": 3
   },
   "file_extension": ".py",
   "mimetype": "text/x-python",
   "name": "python",
   "nbconvert_exporter": "python",
   "pygments_lexer": "ipython3",
   "version": "3.8.13"
  }
 },
 "nbformat": 4,
 "nbformat_minor": 5
}
